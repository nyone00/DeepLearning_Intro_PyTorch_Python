{
 "cells": [
  {
   "cell_type": "markdown",
   "metadata": {},
   "source": [
    "# Neural networks with PyTorch\n",
    "\n",
    "Deep learning networks tend to be massive with dozens or hundreds of layers, that's where the term \"deep\" comes from. You can build one of these deep networks using only weight matrices as we did in the previous notebook, but in general it's very cumbersome and difficult to implement. PyTorch has a nice module `nn` that provides a nice way to efficiently build large neural networks."
   ]
  },
  {
   "cell_type": "code",
   "execution_count": 2,
   "metadata": {},
   "outputs": [],
   "source": [
    "# Import necessary packages\n",
    "\n",
    "%matplotlib inline\n",
    "%config InlineBackend.figure_format = 'retina'\n",
    "\n",
    "import numpy as np\n",
    "import torch\n",
    "\n",
    "import helper\n",
    "\n",
    "import matplotlib.pyplot as plt"
   ]
  },
  {
   "cell_type": "markdown",
   "metadata": {},
   "source": [
    "\n",
    "Now we're going to build a larger network that can solve a (formerly) difficult problem, identifying text in an image. Here we'll use the MNIST dataset which consists of greyscale handwritten digits. Each image is 28x28 pixels, you can see a sample below\n",
    "\n",
    "<img src='assets/mnist.png'>\n",
    "\n",
    "Our goal is to build a neural network that can take one of these images and predict the digit in the image.\n",
    "\n",
    "First up, we need to get our dataset. This is provided through the `torchvision` package. The code below will download the MNIST dataset, then create training and test datasets for us. Don't worry too much about the details here, you'll learn more about this later."
   ]
  },
  {
   "cell_type": "code",
   "execution_count": 3,
   "metadata": {},
   "outputs": [],
   "source": [
    "### Run this cell\n",
    "\n",
    "from torchvision import datasets, transforms\n",
    "\n",
    "# Define a transform to normalize the data\n",
    "transform = transforms.Compose([transforms.ToTensor(),\n",
    "                              transforms.Normalize((0.5,), (0.5,)),\n",
    "                              ])\n",
    "\n",
    "# Download and load the training data\n",
    "trainset = datasets.MNIST('~/.pytorch/MNIST_data/', download=True, train=True, transform=transform)\n",
    "trainloader = torch.utils.data.DataLoader(trainset, batch_size=64, shuffle=True)"
   ]
  },
  {
   "cell_type": "markdown",
   "metadata": {},
   "source": [
    "We have the training data loaded into `trainloader` and we make that an iterator with `iter(trainloader)`. Later, we'll use this to loop through the dataset for training, like\n",
    "\n",
    "```python\n",
    "for image, label in trainloader:\n",
    "    ## do things with images and labels\n",
    "```\n",
    "\n",
    "You'll notice I created the `trainloader` with a batch size of 64, and `shuffle=True`. The batch size is the number of images we get in one iteration from the data loader and pass through our network, often called a *batch*. And `shuffle=True` tells it to shuffle the dataset every time we start going through the data loader again. But here I'm just grabbing the first batch so we can check out the data. We can see below that `images` is just a tensor with size `(64, 1, 28, 28)`. So, 64 images per batch, 1 color channel, and 28x28 images."
   ]
  },
  {
   "cell_type": "code",
   "execution_count": 4,
   "metadata": {},
   "outputs": [
    {
     "name": "stdout",
     "output_type": "stream",
     "text": [
      "<class 'torch.Tensor'>\n",
      "torch.Size([64, 1, 28, 28])\n",
      "torch.Size([64])\n"
     ]
    }
   ],
   "source": [
    "dataiter = iter(trainloader)\n",
    "images, labels = dataiter.next()\n",
    "print(type(images))\n",
    "print(images.shape)\n",
    "print(labels.shape)"
   ]
  },
  {
   "cell_type": "markdown",
   "metadata": {},
   "source": [
    "This is what one of the images looks like. "
   ]
  },
  {
   "cell_type": "code",
   "execution_count": 5,
   "metadata": {},
   "outputs": [
    {
     "data": {
      "image/png": "[encoded data removed]",
      "text/plain": [
       "<Figure size 432x288 with 1 Axes>"
      ]
     },
     "metadata": {
      "image/png": {
       "height": 248,
       "width": 251
      },
      "needs_background": "light"
     },
     "output_type": "display_data"
    }
   ],
   "source": [
    "plt.imshow(images[1].numpy().squeeze(), cmap='Greys_r');"
   ]
  },
  {
   "cell_type": "markdown",
   "metadata": {},
   "source": [
    "First, let's try to build a simple network for this dataset using weight matrices and matrix multiplications. Then, we'll see how to do it using PyTorch's `nn` module which provides a much more convenient and powerful method for defining network architectures.\n",
    "\n",
    "The networks you've seen so far are called *fully-connected* or *dense* networks. Each unit in one layer is connected to each unit in the next layer. In fully-connected networks, the input to each layer must be a one-dimensional vector (which can be stacked into a 2D tensor as a batch of multiple examples). However, our images are 28x28 2D tensors, so we need to convert them into 1D vectors. Thinking about sizes, we need to convert the batch of images with shape `(64, 1, 28, 28)` to a have a shape of `(64, 784)`, 784 is 28 times 28. This is typically called *flattening*, we flattened the 2D images into 1D vectors.\n",
    "\n",
    "Previously you built a network with one output unit. Here we need 10 output units, one for each digit. We want our network to predict the digit shown in an image, so what we'll do is calculate probabilities that the image is of any one digit or class. This ends up being a discrete probability distribution over the classes (digits) that tells us the most likely class for the image. That means we need 10 output units for the 10 classes (digits). We'll see how to convert the network output into a probability distribution next.\n",
    "\n",
    "> **Exercise:** Flatten the batch of images `images`. Then build a multi-layer network with 784 input units, 256 hidden units, and 10 output units using random tensors for the weights and biases. For now, use a sigmoid activation for the hidden layer. Leave the output layer without an activation, we'll add one that gives us a probability distribution next."
   ]
  },
  {
   "cell_type": "code",
   "execution_count": 6,
   "metadata": {},
   "outputs": [
    {
     "name": "stdout",
     "output_type": "stream",
     "text": [
      "tensor([[ 8.7977e+00, -1.6842e+01,  2.6200e+01, -9.8568e+00, -1.3249e+01,\n",
      "         -1.5538e+01,  6.1594e+00,  1.7409e+01,  3.5184e+00, -2.2065e+01],\n",
      "        [ 1.3720e+01, -1.7231e+01,  2.4575e+01,  5.2901e-01,  3.7304e-03,\n",
      "         -5.4452e+00,  6.0868e+00,  1.3620e+01,  1.1491e+01, -1.3509e+01],\n",
      "        [ 3.9258e+00, -1.6751e+01,  2.3865e+01,  4.1995e+00, -5.3900e+00,\n",
      "         -1.3363e+01,  5.9433e+00,  1.4833e+01,  9.0242e+00, -1.6212e+01],\n",
      "        [ 9.0721e+00, -1.4915e+01,  2.8719e+01,  1.1818e+01, -5.1350e+00,\n",
      "         -9.1060e+00,  1.3552e+01,  1.4644e+01,  2.9785e+00, -1.4045e+01],\n",
      "        [ 1.8717e+01, -9.6063e+00,  2.4223e+01, -1.0231e+01, -6.6196e+00,\n",
      "         -7.5785e+00,  4.5465e+00,  1.8387e+01,  1.0389e+01, -2.5291e+00],\n",
      "        [ 1.4570e+01, -1.2614e+01,  1.7434e+01, -1.2564e+00, -1.1557e+00,\n",
      "         -7.3386e+00,  1.2584e+01,  7.0956e+00,  1.3590e+01, -1.2583e+01],\n",
      "        [-2.0137e-01, -7.5502e+00,  3.3050e+01,  9.7988e+00, -1.7506e+01,\n",
      "         -9.7737e+00,  1.7287e+01,  1.4503e+01,  1.1437e+01, -1.6015e+01],\n",
      "        [ 6.6461e+00, -1.9781e+01,  2.6317e+01,  5.2067e+00, -3.4657e+00,\n",
      "         -6.2138e+00,  6.1906e+00,  1.3013e+01,  1.1346e+01, -1.3235e+01],\n",
      "        [ 1.3935e+01, -1.1129e+01,  1.5097e+01, -3.0307e+00, -9.4504e+00,\n",
      "         -1.9508e+01,  1.1681e+01,  1.8795e+01,  1.5422e+01, -1.1905e+01],\n",
      "        [ 3.0538e+00, -1.9546e+01,  2.7785e+01,  2.2156e+00, -6.9567e+00,\n",
      "         -4.6011e+00,  1.4909e+01,  1.7725e+01,  1.2280e+01, -8.3071e+00],\n",
      "        [ 1.0998e+01, -1.2955e+01,  1.9438e+01,  4.5504e+00, -1.8058e+01,\n",
      "         -1.0665e+00,  2.0250e+01,  1.6731e+01,  8.0475e+00, -8.4200e+00],\n",
      "        [ 1.5996e+01, -1.3120e+01,  2.7718e+01,  2.1617e+00, -1.4735e+01,\n",
      "          3.7233e-01,  9.4132e+00,  6.7497e+00,  7.2173e+00, -1.9029e+01],\n",
      "        [ 1.2075e+01, -1.0322e+01,  2.1109e+01, -2.9374e+00, -1.7937e+01,\n",
      "         -1.3704e+01,  1.0811e+01,  1.4929e+01,  9.3890e+00, -4.4665e+00],\n",
      "        [ 8.8857e+00, -9.8049e+00,  2.7917e+01,  2.1095e+00,  1.5082e+00,\n",
      "         -1.1657e+01,  1.2105e+01,  1.1726e+01,  2.5445e+00, -9.3079e+00],\n",
      "        [ 4.5867e+00, -1.6796e+01,  2.8628e+01,  5.3177e+00, -5.6107e+00,\n",
      "         -6.6519e+00,  1.1521e+01,  1.3015e+01,  8.1505e+00, -1.3892e+01],\n",
      "        [ 7.9080e+00, -1.5961e+01,  3.0070e+01,  4.1634e+00, -7.4226e+00,\n",
      "         -1.1805e+01,  1.4808e+01,  1.7189e+01,  1.4233e+01, -9.7862e+00],\n",
      "        [ 1.3559e+01, -1.1445e+01,  2.5932e+01,  2.0250e+01, -1.9519e+00,\n",
      "         -8.2251e+00,  2.1968e+01,  2.2107e+01,  1.1308e+01, -1.4069e+01],\n",
      "        [ 2.0069e+01, -1.2970e+01,  2.7628e+01, -7.8976e-01, -8.9249e+00,\n",
      "         -1.4936e+01,  1.5459e+01,  1.0366e+01,  1.4942e+01, -8.1367e+00],\n",
      "        [ 1.0414e+01, -1.4109e+01,  1.3298e+01,  3.7043e+00, -5.5373e+00,\n",
      "         -2.4082e+00,  1.6781e+01,  1.3563e+01,  1.1137e+01, -2.8948e-01],\n",
      "        [ 7.8915e+00, -1.9938e+01,  2.4103e+01, -2.1855e+00,  2.9783e+00,\n",
      "         -1.4399e+01,  1.9944e+01,  2.0329e+01,  2.2781e+00, -2.1803e+01],\n",
      "        [ 1.9729e+01, -1.7671e+01,  1.7968e+01,  9.1160e+00, -6.4658e+00,\n",
      "         -8.6047e+00,  5.1288e+00,  1.1260e+01,  1.1811e+01, -1.0233e+01],\n",
      "        [ 1.4183e+01, -7.7039e+00,  1.7782e+01,  1.3281e+00, -6.0895e+00,\n",
      "         -8.6149e+00,  1.0165e+01,  1.8420e+01,  1.1776e+01, -1.9952e+00],\n",
      "        [ 1.2134e+01, -1.1326e+01,  1.1287e+01,  7.8143e+00, -9.0465e+00,\n",
      "         -1.5961e+01,  1.5094e+01,  2.2676e+01,  1.6025e+01, -4.2147e+00],\n",
      "        [ 7.4411e+00, -1.8059e+01,  1.5933e+01,  4.1321e+00, -9.8652e+00,\n",
      "         -5.8766e+00,  1.3852e+01,  9.9208e+00,  1.4687e+01, -9.8183e+00],\n",
      "        [ 3.8658e-01, -1.5449e+01,  3.0471e+01,  6.4900e+00, -3.5509e+00,\n",
      "         -1.8658e+01,  1.4744e+01,  1.1052e+01, -2.9319e+00, -6.0792e+00],\n",
      "        [ 1.2722e+01, -2.7444e+01,  2.5336e+01, -6.3308e+00, -1.1686e+01,\n",
      "         -5.0068e+00,  4.8012e+00,  1.4039e+01,  9.6134e+00, -1.4412e+01],\n",
      "        [ 4.5779e-01, -1.3734e+01,  2.4466e+01,  2.5845e+00, -1.9971e+01,\n",
      "         -1.1074e+01,  7.6584e+00,  1.7963e+01,  9.9518e+00, -1.4307e+01],\n",
      "        [ 1.4233e+01, -3.7793e+00,  1.1118e+01,  1.1328e+01, -1.2013e+01,\n",
      "         -1.1424e+01,  1.8586e+01,  1.3640e+01,  2.0039e+00, -2.1035e+00],\n",
      "        [ 1.0222e+01, -1.3711e+01,  2.3031e+01,  6.5971e+00, -7.8336e+00,\n",
      "         -1.2857e+01,  5.9624e+00,  1.5985e+01,  1.2676e+01, -1.0944e+01],\n",
      "        [ 1.4544e+01, -2.0601e+01,  2.7073e+01, -5.1284e+00, -8.5032e+00,\n",
      "         -8.9895e+00,  1.0796e+01,  1.4256e+01,  1.7456e+01, -1.0208e+01],\n",
      "        [ 5.1307e+00, -1.9098e+01,  2.1408e+01, -1.1751e+01, -1.2466e+01,\n",
      "         -5.8622e+00,  8.2966e+00,  1.1752e+01,  2.9799e+01, -2.3601e+01],\n",
      "        [ 1.1718e+01, -1.8034e+01,  2.6820e+01, -7.2598e-01, -3.2702e+00,\n",
      "         -5.4887e+00,  1.8011e+01,  2.0982e+01,  1.2173e+01, -1.1304e+01],\n",
      "        [ 3.2221e+00, -5.0834e+00,  1.8324e+01, -5.4257e+00, -9.8543e+00,\n",
      "          3.7277e+00,  9.8575e+00,  1.8555e+01,  1.6023e+01, -1.7696e+01],\n",
      "        [ 9.8208e+00, -1.6715e+01,  1.2773e+01,  1.5041e+00, -1.3921e+01,\n",
      "         -1.0215e+01, -1.3883e+00,  1.3671e+01,  1.2346e+01, -9.8097e+00],\n",
      "        [ 1.1166e+01, -6.9846e+00,  9.3913e+00,  1.1693e+01, -4.2141e+00,\n",
      "         -1.1527e+01,  1.1312e+01,  1.3755e+01,  7.9173e+00,  2.3885e+00],\n",
      "        [ 1.3760e+01, -2.2205e+01,  2.5829e+01,  4.2432e+00, -1.0413e+01,\n",
      "         -5.1268e+00,  7.8248e+00,  1.9142e+01,  4.3759e+00, -9.4989e+00],\n",
      "        [ 2.0242e-01, -2.0039e+01,  2.1205e+01,  5.9240e+00, -2.4877e+00,\n",
      "         -2.0351e+01,  1.4079e+01,  2.9011e+01,  1.1508e+01, -1.3774e+01],\n",
      "        [ 2.1710e+01, -1.9068e+01,  1.5815e+01, -7.5763e+00, -4.7455e+00,\n",
      "         -6.5532e+00,  1.0328e+01,  1.7678e+01,  2.5122e+01, -1.8207e+01],\n",
      "        [ 5.1359e+00, -4.3470e+00,  2.4313e+01,  1.0045e+01, -1.0340e+01,\n",
      "          5.9630e-02,  6.2690e+00,  2.2110e+01,  8.0650e+00, -1.3936e+01],\n",
      "        [ 1.5275e+01, -1.4390e+01,  1.3705e+01,  3.1179e+00,  2.5026e+00,\n",
      "          3.2057e-01,  1.0228e+01,  1.5512e+01,  1.1521e+01, -3.9474e+00],\n",
      "        [ 1.2384e+01, -1.7634e+01,  2.0635e+01,  2.2588e+00, -9.8959e+00,\n",
      "         -6.3633e+00,  1.4920e+01,  2.2432e+01,  1.6523e+01, -1.3468e+01],\n",
      "        [ 9.7247e+00, -1.5134e+01,  2.5610e+01, -7.3636e+00, -6.2384e+00,\n",
      "         -1.2039e+00,  1.4253e+01,  2.4794e+01,  1.7196e+01, -1.5069e+01],\n",
      "        [ 7.5720e+00, -1.1226e+01,  2.8872e+01,  2.2799e+00, -8.8516e+00,\n",
      "         -4.1214e+00,  6.9445e+00,  1.9066e+01,  5.4495e+00, -1.3961e+01],\n",
      "        [ 1.3555e+01, -8.3218e+00,  2.9160e+01,  6.6977e+00, -6.9127e+00,\n",
      "         -5.8316e+00,  1.0287e+01,  1.8393e+01,  1.1278e+01, -1.3791e+01],\n",
      "        [ 1.3855e+01, -1.5160e+01,  2.3584e+01,  2.1528e+00, -5.4938e+00,\n",
      "         -1.6538e+01,  2.1175e+01,  1.7114e+01,  3.9936e+00, -9.7218e+00],\n",
      "        [ 8.9335e+00, -1.7476e+01,  1.7179e+01,  7.2094e-01, -4.3935e+00,\n",
      "         -1.0793e+01,  4.4255e+00,  1.5073e+01,  1.3642e+01, -1.4445e+01],\n",
      "        [ 1.2462e+01, -1.4144e+01,  1.7020e+01,  8.0161e+00, -1.0330e+01,\n",
      "         -1.0876e+01,  9.7816e+00,  2.0765e+01,  7.6447e+00, -2.0623e+01],\n",
      "        [ 8.8715e+00, -1.4988e+01,  2.9907e+01, -6.6504e+00,  3.0406e+00,\n",
      "         -5.2490e+00,  1.0301e+01,  2.3737e+01,  5.2685e+00, -5.6721e-01],\n",
      "        [ 1.2292e+01, -1.6017e+01,  1.7766e+01,  7.5736e+00, -1.0327e+01,\n",
      "          8.2214e-01,  1.5289e+01,  1.5218e+01,  1.9175e+01, -1.2593e+01],\n",
      "        [ 3.3689e+00, -1.6196e+01,  2.5802e+01,  1.1671e+01, -1.7900e+01,\n",
      "         -6.4708e+00,  1.4453e+01,  2.3005e+01,  9.7271e-01, -1.9559e+01],\n",
      "        [ 1.1982e+01, -1.9787e+01,  3.0232e+01,  4.8553e+00, -7.6564e-01,\n",
      "         -8.1392e+00,  7.4556e+00,  1.0856e+01,  1.0610e+01, -8.3227e+00],\n",
      "        [ 8.6596e+00, -6.6622e+00,  1.4775e+01,  2.3623e+00, -6.7072e+00,\n",
      "          4.6443e+00,  8.0479e+00,  9.0610e+00,  5.1282e+00, -1.0514e+01],\n",
      "        [ 1.1601e+01, -1.6532e+01,  1.8186e+01,  8.0931e-01, -1.1078e+01,\n",
      "         -1.4578e+01,  4.3161e+00,  1.7918e+01,  1.4324e+01, -1.2799e+01],\n",
      "        [ 1.4849e+01, -5.6163e+00,  1.9899e+01, -1.1972e+00, -1.3158e+01,\n",
      "         -9.0662e+00,  7.1631e+00,  1.1643e+01,  1.3122e+01, -1.1474e+01],\n",
      "        [ 5.8553e+00, -1.5216e+01,  1.7745e+01,  6.2588e+00, -1.2169e+01,\n",
      "         -7.3084e+00,  1.0977e+01,  2.1015e+01,  5.9787e+00, -1.1302e+01],\n",
      "        [ 1.5774e+01, -1.5266e+01,  2.6339e+01,  5.1823e+00, -3.2044e+00,\n",
      "         -8.7083e+00,  1.0187e+01,  1.0414e+01,  9.2205e+00, -1.1605e+01],\n",
      "        [ 6.8350e+00, -1.3304e+01,  2.6240e+01,  7.9654e+00, -6.6717e+00,\n",
      "          1.0206e-02,  2.3475e+01,  1.2065e+01,  1.2634e+01, -1.0961e+01],\n",
      "        [ 1.0859e+01, -1.4295e+01,  1.7168e+01, -3.4271e+00, -6.6225e+00,\n",
      "         -8.9823e+00,  9.1919e+00,  1.5959e+01,  1.0673e+01, -4.9899e+00],\n",
      "        [ 1.2065e+01, -1.3125e+01,  3.0379e+01, -8.4422e+00, -1.6108e-01,\n",
      "         -5.9328e+00,  2.6700e+00,  1.5236e+01,  2.0860e+01, -1.0103e+01],\n",
      "        [ 2.1712e+01, -1.0183e+01,  2.4202e+01, -4.2598e+00, -4.6805e+00,\n",
      "         -9.5924e+00,  8.8786e+00,  1.9024e+01,  2.8254e+01, -1.9790e+01],\n",
      "        [ 2.0998e+01, -1.2176e+01,  2.2025e+01,  4.1333e+00, -1.3236e+01,\n",
      "         -7.4664e+00,  6.7824e+00,  1.2180e+01,  8.5086e+00, -6.8845e+00],\n",
      "        [ 1.5441e+01, -4.1992e+00,  3.2457e+01,  4.9538e+00, -5.8415e+00,\n",
      "         -5.7944e+00,  1.2893e+01,  9.0926e+00,  1.8368e+01, -6.5404e+00],\n",
      "        [ 3.3263e+00, -2.0257e+01,  2.7995e+01,  1.0986e+01, -1.6547e+01,\n",
      "         -1.0443e+01,  1.3151e+01,  1.8628e+01,  1.6596e+00, -1.7561e+01],\n",
      "        [ 1.6503e+01, -2.4948e+01,  1.5487e+01,  9.0069e+00, -8.1628e+00,\n",
      "         -1.0354e+01,  1.5185e+01,  4.6428e+00,  4.9453e+00, -1.8085e+01]])\n"
     ]
    }
   ],
   "source": [
    "## Your solution\n",
    "def activation(x):\n",
    "    return 1 / (1 + torch.exp(-x))\n",
    "\n",
    "# Flatten the image\n",
    "inputs = images.view(images.shape[0], -1)\n",
    "\n",
    "# Create parameters\n",
    "w1 = torch.randn(784, 256)\n",
    "b1 = torch.randn(256)\n",
    "\n",
    "w2 = torch.randn(256, 10)\n",
    "b2 = torch.randn(10)\n",
    "\n",
    "y = activation(torch.mm(inputs, w1)+b1)\n",
    "\n",
    "\n",
    "out = torch.mm(y, w2) + b2\n",
    "print(out)\n",
    "# output of your network, should have shape (64,10)"
   ]
  },
  {
   "cell_type": "markdown",
   "metadata": {},
   "source": [
    "Now we have 10 outputs for our network. We want to pass in an image to our network and get out a probability distribution over the classes that tells us the likely class(es) the image belongs to. Something that looks like this:\n",
    "<img src='assets/image_distribution.png' width=500px>\n",
    "\n",
    "Here we see that the probability for each class is roughly the same. This is representing an untrained network, it hasn't seen any data yet so it just returns a uniform distribution with equal probabilities for each class.\n",
    "\n",
    "To calculate this probability distribution, we often use the [**softmax** function](https://en.wikipedia.org/wiki/Softmax_function). Mathematically this looks like\n",
    "\n",
    "$$\n",
    "\\Large \\sigma(x_i) = \\cfrac{e^{x_i}}{\\sum_k^K{e^{x_k}}}\n",
    "$$\n",
    "\n",
    "What this does is squish each input $x_i$ between 0 and 1 and normalizes the values to give you a proper probability distribution where the probabilites sum up to one.\n",
    "\n",
    "> **Exercise:** Implement a function `softmax` that performs the softmax calculation and returns probability distributions for each example in the batch. Note that you'll need to pay attention to the shapes when doing this. If you have a tensor `a` with shape `(64, 10)` and a tensor `b` with shape `(64,)`, doing `a/b` will give you an error because PyTorch will try to do the division across the columns (called broadcasting) but you'll get a size mismatch. The way to think about this is for each of the 64 examples, you only want to divide by one value, the sum in the denominator. So you need `b` to have a shape of `(64, 1)`. This way PyTorch will divide the 10 values in each row of `a` by the one value in each row of `b`. Pay attention to how you take the sum as well. You'll need to define the `dim` keyword in `torch.sum`. Setting `dim=0` takes the sum across the rows while `dim=1` takes the sum across the columns."
   ]
  },
  {
   "cell_type": "code",
   "execution_count": 8,
   "metadata": {},
   "outputs": [
    {
     "name": "stdout",
     "output_type": "stream",
     "text": [
      "torch.Size([64, 10])\n",
      "tensor([1.0000, 1.0000, 1.0000, 1.0000, 1.0000, 1.0000, 1.0000, 1.0000, 1.0000,\n",
      "        1.0000, 1.0000, 1.0000, 1.0000, 1.0000, 1.0000, 1.0000, 1.0000, 1.0000,\n",
      "        1.0000, 1.0000, 1.0000, 1.0000, 1.0000, 1.0000, 1.0000, 1.0000, 1.0000,\n",
      "        1.0000, 1.0000, 1.0000, 1.0000, 1.0000, 1.0000, 1.0000, 1.0000, 1.0000,\n",
      "        1.0000, 1.0000, 1.0000, 1.0000, 1.0000, 1.0000, 1.0000, 1.0000, 1.0000,\n",
      "        1.0000, 1.0000, 1.0000, 1.0000, 1.0000, 1.0000, 1.0000, 1.0000, 1.0000,\n",
      "        1.0000, 1.0000, 1.0000, 1.0000, 1.0000, 1.0000, 1.0000, 1.0000, 1.0000,\n",
      "        1.0000])\n"
     ]
    }
   ],
   "source": [
    "def softmax(x):\n",
    "    return torch.exp(x)/torch.sum(torch.exp(x), dim=1).view(-1, 1)\n",
    "    \n",
    "    ## TODO: Implement the softmax function here\n",
    "\n",
    "# Here, out should be the output of the network in the previous excercise with shape (64,10)\n",
    "probabilities = softmax(out)\n",
    "\n",
    "# Does it have the right shape? Should be (64, 10)\n",
    "print(probabilities.shape)\n",
    "# Does it sum to 1?\n",
    "print(probabilities.sum(dim=1))"
   ]
  },
  {
   "cell_type": "markdown",
   "metadata": {},
   "source": [
    "## Building networks with PyTorch\n",
    "\n",
    "PyTorch provides a module `nn` that makes building networks much simpler. Here I'll show you how to build the same one as above with 784 inputs, 256 hidden units, 10 output units and a softmax output."
   ]
  },
  {
   "cell_type": "code",
   "execution_count": 9,
   "metadata": {},
   "outputs": [],
   "source": [
    "from torch import nn"
   ]
  },
  {
   "cell_type": "code",
   "execution_count": 10,
   "metadata": {},
   "outputs": [],
   "source": [
    "class Network(nn.Module):\n",
    "    def __init__(self):\n",
    "        super().__init__()\n",
    "        \n",
    "        # Inputs to hidden layer linear transformation\n",
    "        self.hidden = nn.Linear(784, 256)\n",
    "        # Output layer, 10 units - one for each digit\n",
    "        self.output = nn.Linear(256, 10)\n",
    "        \n",
    "        # Define sigmoid activation and softmax output \n",
    "        self.sigmoid = nn.Sigmoid()\n",
    "        self.softmax = nn.Softmax(dim=1)\n",
    "        \n",
    "    def forward(self, x):\n",
    "        # Pass the input tensor through each of our operations\n",
    "        x = self.hidden(x)\n",
    "        x = self.sigmoid(x)\n",
    "        x = self.output(x)\n",
    "        x = self.softmax(x)\n",
    "        \n",
    "        return x"
   ]
  },
  {
   "cell_type": "markdown",
   "metadata": {},
   "source": [
    "Let's go through this bit by bit.\n",
    "\n",
    "```python\n",
    "class Network(nn.Module):\n",
    "```\n",
    "\n",
    "Here we're inheriting from `nn.Module`. Combined with `super().__init__()` this creates a class that tracks the architecture and provides a lot of useful methods and attributes. It is mandatory to inherit from `nn.Module` when you're creating a class for your network. The name of the class itself can be anything.\n",
    "\n",
    "```python\n",
    "self.hidden = nn.Linear(784, 256)\n",
    "```\n",
    "\n",
    "This line creates a module for a linear transformation, $x\\mathbf{W} + b$, with 784 inputs and 256 outputs and assigns it to `self.hidden`. The module automatically creates the weight and bias tensors which we'll use in the `forward` method. You can access the weight and bias tensors once the network (`net`) is created with `net.hidden.weight` and `net.hidden.bias`.\n",
    "\n",
    "```python\n",
    "self.output = nn.Linear(256, 10)\n",
    "```\n",
    "\n",
    "Similarly, this creates another linear transformation with 256 inputs and 10 outputs.\n",
    "\n",
    "```python\n",
    "self.sigmoid = nn.Sigmoid()\n",
    "self.softmax = nn.Softmax(dim=1)\n",
    "```\n",
    "\n",
    "Here I defined operations for the sigmoid activation and softmax output. Setting `dim=1` in `nn.Softmax(dim=1)` calculates softmax across the columns.\n",
    "\n",
    "```python\n",
    "def forward(self, x):\n",
    "```\n",
    "\n",
    "PyTorch networks created with `nn.Module` must have a `forward` method defined. It takes in a tensor `x` and passes it through the operations you defined in the `__init__` method.\n",
    "\n",
    "```python\n",
    "x = self.hidden(x)\n",
    "x = self.sigmoid(x)\n",
    "x = self.output(x)\n",
    "x = self.softmax(x)\n",
    "```\n",
    "\n",
    "Here the input tensor `x` is passed through each operation and reassigned to `x`. We can see that the input tensor goes through the hidden layer, then a sigmoid function, then the output layer, and finally the softmax function. It doesn't matter what you name the variables here, as long as the inputs and outputs of the operations match the network architecture you want to build. The order in which you define things in the `__init__` method doesn't matter, but you'll need to sequence the operations correctly in the `forward` method.\n",
    "\n",
    "Now we can create a `Network` object."
   ]
  },
  {
   "cell_type": "code",
   "execution_count": 13,
   "metadata": {},
   "outputs": [
    {
     "data": {
      "text/plain": [
       "Network(\n",
       "  (hidden): Linear(in_features=784, out_features=256, bias=True)\n",
       "  (output): Linear(in_features=256, out_features=10, bias=True)\n",
       ")"
      ]
     },
     "execution_count": 13,
     "metadata": {},
     "output_type": "execute_result"
    }
   ],
   "source": [
    "# Create the network and look at it's text representation\n",
    "model = Network()\n",
    "model"
   ]
  },
  {
   "cell_type": "markdown",
   "metadata": {},
   "source": [
    "You can define the network somewhat more concisely and clearly using the `torch.nn.functional` module. This is the most common way you'll see networks defined as many operations are simple element-wise functions. We normally import this module as `F`, `import torch.nn.functional as F`."
   ]
  },
  {
   "cell_type": "code",
   "execution_count": 14,
   "metadata": {},
   "outputs": [],
   "source": [
    "import torch.nn.functional as F\n",
    "\n",
    "class Network(nn.Module):\n",
    "    def __init__(self):\n",
    "        super().__init__()\n",
    "        # Inputs to hidden layer linear transformation\n",
    "        self.hidden = nn.Linear(784, 256)\n",
    "        # Output layer, 10 units - one for each digit\n",
    "        self.output = nn.Linear(256, 10)\n",
    "        \n",
    "    def forward(self, x):\n",
    "        # Hidden layer with sigmoid activation\n",
    "        x = F.sigmoid(self.hidden(x))\n",
    "        # Output layer with softmax activation\n",
    "        x = F.softmax(self.output(x), dim=1)\n",
    "        \n",
    "        return x"
   ]
  },
  {
   "cell_type": "markdown",
   "metadata": {},
   "source": [
    "### Activation functions\n",
    "\n",
    "So far we've only been looking at the sigmoid activation function, but in general any function can be used as an activation function. The only requirement is that for a network to approximate a non-linear function, the activation functions must be non-linear. Here are a few more examples of common activation functions: Tanh (hyperbolic tangent), and ReLU (rectified linear unit).\n",
    "\n",
    "<img src=\"assets/activation.png\" width=700px>\n",
    "\n",
    "In practice, the ReLU function is used almost exclusively as the activation function for hidden layers."
   ]
  },
  {
   "cell_type": "markdown",
   "metadata": {},
   "source": [
    "### Your Turn to Build a Network\n",
    "\n",
    "<img src=\"assets/mlp_mnist.png\" width=600px>\n",
    "\n",
    "> **Exercise:** Create a network with 784 input units, a hidden layer with 128 units and a ReLU activation, then a hidden layer with 64 units and a ReLU activation, and finally an output layer with a softmax activation as shown above. You can use a ReLU activation with the `nn.ReLU` module or `F.relu` function.\n",
    "\n",
    "It's good practice to name your layers by their type of network, for instance 'fc' to represent a fully-connected layer. As you code your solution, use `fc1`, `fc2`, and `fc3` as your layer names."
   ]
  },
  {
   "cell_type": "code",
   "execution_count": 20,
   "metadata": {
    "scrolled": true
   },
   "outputs": [
    {
     "data": {
      "text/plain": [
       "Network(\n",
       "  (fc1): Linear(in_features=784, out_features=128, bias=True)\n",
       "  (fc2): Linear(in_features=128, out_features=64, bias=True)\n",
       "  (fc3): Linear(in_features=64, out_features=10, bias=True)\n",
       ")"
      ]
     },
     "execution_count": 20,
     "metadata": {},
     "output_type": "execute_result"
    }
   ],
   "source": [
    "## Your solution here\n",
    "class Network(nn.Module):\n",
    "    def __init__(self):\n",
    "        super().__init__()\n",
    "        \n",
    "        self.fc1 = nn.Linear(784, 128)\n",
    "        self.fc2 = nn.Linear(128, 64)\n",
    "        self.fc3 = nn.Linear(64, 10)\n",
    "    def forward(self,x):\n",
    "        x = self.fc1(x)\n",
    "        x = F.relu(x)\n",
    "        x = self.fc2(x)\n",
    "        x = F.relu(x)\n",
    "        x = self.fc3(x)\n",
    "        x = F.softmax(x, dim=1)\n",
    "        return x\n",
    "    \n",
    "model = Network()\n",
    "model\n",
    "    \n"
   ]
  },
  {
   "cell_type": "markdown",
   "metadata": {},
   "source": [
    "### Initializing weights and biases\n",
    "\n",
    "The weights and such are automatically initialized for you, but it's possible to customize how they are initialized. The weights and biases are tensors attached to the layer you defined, you can get them with `model.fc1.weight` for instance."
   ]
  },
  {
   "cell_type": "code",
   "execution_count": 21,
   "metadata": {},
   "outputs": [
    {
     "name": "stdout",
     "output_type": "stream",
     "text": [
      "Parameter containing:\n",
      "tensor([[-0.0059, -0.0282, -0.0007,  ...,  0.0317,  0.0235, -0.0099],\n",
      "        [-0.0119,  0.0346, -0.0256,  ..., -0.0262,  0.0081, -0.0302],\n",
      "        [-0.0143, -0.0247,  0.0004,  ...,  0.0177, -0.0234, -0.0236],\n",
      "        ...,\n",
      "        [ 0.0023, -0.0113, -0.0302,  ..., -0.0120, -0.0161,  0.0069],\n",
      "        [-0.0039,  0.0092,  0.0077,  ...,  0.0345,  0.0275, -0.0280],\n",
      "        [ 0.0009, -0.0266, -0.0060,  ...,  0.0323,  0.0296, -0.0077]],\n",
      "       requires_grad=True)\n",
      "Parameter containing:\n",
      "tensor([-0.0024, -0.0016,  0.0244,  0.0199, -0.0280,  0.0160, -0.0229, -0.0196,\n",
      "        -0.0292,  0.0278, -0.0027, -0.0330,  0.0188, -0.0033,  0.0218,  0.0146,\n",
      "        -0.0239, -0.0187,  0.0232,  0.0081,  0.0297,  0.0127,  0.0195, -0.0221,\n",
      "         0.0256, -0.0049, -0.0335,  0.0324, -0.0081, -0.0097, -0.0268, -0.0098,\n",
      "         0.0085, -0.0341, -0.0193, -0.0356,  0.0215,  0.0305,  0.0004,  0.0045,\n",
      "        -0.0190, -0.0096,  0.0342,  0.0333,  0.0295,  0.0186, -0.0063, -0.0313,\n",
      "        -0.0190, -0.0286, -0.0270, -0.0195,  0.0156,  0.0189, -0.0059, -0.0122,\n",
      "         0.0282,  0.0025, -0.0316, -0.0231,  0.0033,  0.0087, -0.0136, -0.0097,\n",
      "         0.0104,  0.0144, -0.0307,  0.0228, -0.0006, -0.0042, -0.0276,  0.0234,\n",
      "         0.0120,  0.0277, -0.0011, -0.0116,  0.0013, -0.0131, -0.0230,  0.0137,\n",
      "         0.0183,  0.0100,  0.0168, -0.0310, -0.0222, -0.0294, -0.0155, -0.0120,\n",
      "         0.0327, -0.0237,  0.0069,  0.0073, -0.0276,  0.0211,  0.0247, -0.0018,\n",
      "         0.0173,  0.0082, -0.0143, -0.0162, -0.0253,  0.0058,  0.0164,  0.0132,\n",
      "         0.0330,  0.0134,  0.0323,  0.0305, -0.0336,  0.0325, -0.0180,  0.0300,\n",
      "         0.0202, -0.0047, -0.0120,  0.0191, -0.0220,  0.0082, -0.0261,  0.0031,\n",
      "        -0.0097, -0.0153, -0.0169,  0.0100,  0.0011,  0.0191,  0.0095,  0.0106],\n",
      "       requires_grad=True)\n"
     ]
    }
   ],
   "source": [
    "print(model.fc1.weight)\n",
    "print(model.fc1.bias)"
   ]
  },
  {
   "cell_type": "markdown",
   "metadata": {},
   "source": [
    "For custom initialization, we want to modify these tensors in place. These are actually autograd *Variables*, so we need to get back the actual tensors with `model.fc1.weight.data`. Once we have the tensors, we can fill them with zeros (for biases) or random normal values."
   ]
  },
  {
   "cell_type": "code",
   "execution_count": 22,
   "metadata": {},
   "outputs": [
    {
     "data": {
      "text/plain": [
       "tensor([0., 0., 0., 0., 0., 0., 0., 0., 0., 0., 0., 0., 0., 0., 0., 0., 0., 0., 0., 0., 0., 0., 0., 0.,\n",
       "        0., 0., 0., 0., 0., 0., 0., 0., 0., 0., 0., 0., 0., 0., 0., 0., 0., 0., 0., 0., 0., 0., 0., 0.,\n",
       "        0., 0., 0., 0., 0., 0., 0., 0., 0., 0., 0., 0., 0., 0., 0., 0., 0., 0., 0., 0., 0., 0., 0., 0.,\n",
       "        0., 0., 0., 0., 0., 0., 0., 0., 0., 0., 0., 0., 0., 0., 0., 0., 0., 0., 0., 0., 0., 0., 0., 0.,\n",
       "        0., 0., 0., 0., 0., 0., 0., 0., 0., 0., 0., 0., 0., 0., 0., 0., 0., 0., 0., 0., 0., 0., 0., 0.,\n",
       "        0., 0., 0., 0., 0., 0., 0., 0.])"
      ]
     },
     "execution_count": 22,
     "metadata": {},
     "output_type": "execute_result"
    }
   ],
   "source": [
    "# Set biases to all zeros\n",
    "model.fc1.bias.data.fill_(0)"
   ]
  },
  {
   "cell_type": "code",
   "execution_count": 23,
   "metadata": {},
   "outputs": [
    {
     "data": {
      "text/plain": [
       "tensor([[-0.0189,  0.0006,  0.0027,  ...,  0.0068,  0.0026,  0.0236],\n",
       "        [ 0.0035,  0.0027,  0.0027,  ...,  0.0074,  0.0079, -0.0015],\n",
       "        [-0.0073,  0.0009,  0.0202,  ...,  0.0063, -0.0290, -0.0184],\n",
       "        ...,\n",
       "        [ 0.0058,  0.0012, -0.0150,  ..., -0.0151,  0.0129,  0.0091],\n",
       "        [ 0.0243,  0.0043,  0.0117,  ...,  0.0013,  0.0094,  0.0211],\n",
       "        [-0.0183,  0.0076, -0.0019,  ..., -0.0007,  0.0201,  0.0045]])"
      ]
     },
     "execution_count": 23,
     "metadata": {},
     "output_type": "execute_result"
    }
   ],
   "source": [
    "# sample from random normal with standard dev = 0.01\n",
    "model.fc1.weight.data.normal_(std=0.01)"
   ]
  },
  {
   "cell_type": "markdown",
   "metadata": {},
   "source": [
    "### Forward pass\n",
    "\n",
    "Now that we have a network, let's see what happens when we pass in an image."
   ]
  },
  {
   "cell_type": "code",
   "execution_count": 24,
   "metadata": {},
   "outputs": [
    {
     "data": {
      "image/png": "[encoded data removed]",
      "text/plain": [
       "<Figure size 432x648 with 2 Axes>"
      ]
     },
     "metadata": {
      "image/png": {
       "height": 235,
       "width": 424
      },
      "needs_background": "light"
     },
     "output_type": "display_data"
    }
   ],
   "source": [
    "# Grab some data \n",
    "dataiter = iter(trainloader)\n",
    "images, labels = dataiter.next()\n",
    "\n",
    "# Resize images into a 1D vector, new shape is (batch size, color channels, image pixels) \n",
    "images.resize_(64, 1, 784)\n",
    "# or images.resize_(images.shape[0], 1, 784) to automatically get batch size\n",
    "\n",
    "# Forward pass through the network\n",
    "img_idx = 0\n",
    "ps = model.forward(images[img_idx,:])\n",
    "\n",
    "img = images[img_idx]\n",
    "helper.view_classify(img.view(1, 28, 28), ps)"
   ]
  },
  {
   "cell_type": "markdown",
   "metadata": {},
   "source": [
    "As you can see above, our network has basically no idea what this digit is. It's because we haven't trained it yet, all the weights are random!\n",
    "\n",
    "### Using `nn.Sequential`\n",
    "\n",
    "PyTorch provides a convenient way to build networks like this where a tensor is passed sequentially through operations, `nn.Sequential` ([documentation](https://pytorch.org/docs/master/nn.html#torch.nn.Sequential)). Using this to build the equivalent network:"
   ]
  },
  {
   "cell_type": "code",
   "execution_count": 25,
   "metadata": {},
   "outputs": [
    {
     "name": "stdout",
     "output_type": "stream",
     "text": [
      "Sequential(\n",
      "  (0): Linear(in_features=784, out_features=128, bias=True)\n",
      "  (1): ReLU()\n",
      "  (2): Linear(in_features=128, out_features=64, bias=True)\n",
      "  (3): ReLU()\n",
      "  (4): Linear(in_features=64, out_features=10, bias=True)\n",
      "  (5): Softmax(dim=1)\n",
      ")\n"
     ]
    },
    {
     "data": {
      "image/png": "[encoded data removed]",
      "text/plain": [
       "<Figure size 432x648 with 2 Axes>"
      ]
     },
     "metadata": {
      "image/png": {
       "height": 235,
       "width": 424
      },
      "needs_background": "light"
     },
     "output_type": "display_data"
    }
   ],
   "source": [
    "# Hyperparameters for our network\n",
    "input_size = 784\n",
    "hidden_sizes = [128, 64]\n",
    "output_size = 10\n",
    "\n",
    "# Build a feed-forward network\n",
    "model = nn.Sequential(nn.Linear(input_size, hidden_sizes[0]),\n",
    "                      nn.ReLU(),\n",
    "                      nn.Linear(hidden_sizes[0], hidden_sizes[1]),\n",
    "                      nn.ReLU(),\n",
    "                      nn.Linear(hidden_sizes[1], output_size),\n",
    "                      nn.Softmax(dim=1))\n",
    "print(model)\n",
    "\n",
    "# Forward pass through the network and display output\n",
    "images, labels = next(iter(trainloader))\n",
    "images.resize_(images.shape[0], 1, 784)\n",
    "ps = model.forward(images[0,:])\n",
    "helper.view_classify(images[0].view(1, 28, 28), ps)"
   ]
  },
  {
   "cell_type": "markdown",
   "metadata": {},
   "source": [
    "Here our model is the same as before: 784 input units, a hidden layer with 128 units, ReLU activation, 64 unit hidden layer, another ReLU, then the output layer with 10 units, and the softmax output.\n",
    "\n",
    "The operations are available by passing in the appropriate index. For example, if you want to get first Linear operation and look at the weights, you'd use `model[0]`."
   ]
  },
  {
   "cell_type": "code",
   "execution_count": 26,
   "metadata": {},
   "outputs": [
    {
     "name": "stdout",
     "output_type": "stream",
     "text": [
      "Linear(in_features=784, out_features=128, bias=True)\n"
     ]
    },
    {
     "data": {
      "text/plain": [
       "Parameter containing:\n",
       "tensor([[-0.0234,  0.0151, -0.0135,  ..., -0.0088,  0.0119, -0.0319],\n",
       "        [-0.0158, -0.0228,  0.0237,  ..., -0.0342, -0.0187,  0.0328],\n",
       "        [ 0.0264, -0.0100, -0.0219,  ...,  0.0187, -0.0267, -0.0350],\n",
       "        ...,\n",
       "        [-0.0311,  0.0109,  0.0093,  ..., -0.0107,  0.0095, -0.0058],\n",
       "        [-0.0180, -0.0187, -0.0035,  ..., -0.0321, -0.0263,  0.0154],\n",
       "        [-0.0105,  0.0004,  0.0051,  ..., -0.0306, -0.0286, -0.0099]],\n",
       "       requires_grad=True)"
      ]
     },
     "execution_count": 26,
     "metadata": {},
     "output_type": "execute_result"
    }
   ],
   "source": [
    "print(model[0])\n",
    "model[0].weight"
   ]
  },
  {
   "cell_type": "markdown",
   "metadata": {},
   "source": [
    "You can also pass in an `OrderedDict` to name the individual layers and operations, instead of using incremental integers. Note that dictionary keys must be unique, so _each operation must have a different name_."
   ]
  },
  {
   "cell_type": "code",
   "execution_count": 27,
   "metadata": {},
   "outputs": [
    {
     "data": {
      "text/plain": [
       "Sequential(\n",
       "  (fc1): Linear(in_features=784, out_features=128, bias=True)\n",
       "  (relu1): ReLU()\n",
       "  (fc2): Linear(in_features=128, out_features=64, bias=True)\n",
       "  (relu2): ReLU()\n",
       "  (output): Linear(in_features=64, out_features=10, bias=True)\n",
       "  (softmax): Softmax(dim=1)\n",
       ")"
      ]
     },
     "execution_count": 27,
     "metadata": {},
     "output_type": "execute_result"
    }
   ],
   "source": [
    "from collections import OrderedDict\n",
    "model = nn.Sequential(OrderedDict([\n",
    "                      ('fc1', nn.Linear(input_size, hidden_sizes[0])),\n",
    "                      ('relu1', nn.ReLU()),\n",
    "                      ('fc2', nn.Linear(hidden_sizes[0], hidden_sizes[1])),\n",
    "                      ('relu2', nn.ReLU()),\n",
    "                      ('output', nn.Linear(hidden_sizes[1], output_size)),\n",
    "                      ('softmax', nn.Softmax(dim=1))]))\n",
    "model"
   ]
  },
  {
   "cell_type": "markdown",
   "metadata": {},
   "source": [
    "Now you can access layers either by integer or the name"
   ]
  },
  {
   "cell_type": "code",
   "execution_count": 28,
   "metadata": {},
   "outputs": [
    {
     "name": "stdout",
     "output_type": "stream",
     "text": [
      "Linear(in_features=784, out_features=128, bias=True)\n",
      "Linear(in_features=784, out_features=128, bias=True)\n"
     ]
    }
   ],
   "source": [
    "print(model[0])\n",
    "print(model.fc1)"
   ]
  },
  {
   "cell_type": "markdown",
   "metadata": {},
   "source": [
    "In the next notebook, we'll see how we can train a neural network to accuractly predict the numbers appearing in the MNIST images."
   ]
  }
 ],
 "metadata": {
  "kernelspec": {
   "display_name": "Python 3",
   "language": "python",
   "name": "python3"
  },
  "language_info": {
   "codemirror_mode": {
    "name": "ipython",
    "version": 3
   },
   "file_extension": ".py",
   "mimetype": "text/x-python",
   "name": "python",
   "nbconvert_exporter": "python",
   "pygments_lexer": "ipython3",
   "version": "3.8.5"
  }
 },
 "nbformat": 4,
 "nbformat_minor": 2
}
